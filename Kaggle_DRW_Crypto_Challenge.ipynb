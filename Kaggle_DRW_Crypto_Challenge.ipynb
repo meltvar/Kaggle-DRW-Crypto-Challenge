{
 "cells": [
  {
   "cell_type": "code",
   "execution_count": 1,
   "id": "0a721f02",
   "metadata": {
    "_cell_guid": "b1076dfc-b9ad-4769-8c92-a6c4dae69d19",
    "_uuid": "8f2839f25d086af736a60e9eeb907d3b93b6e0e5",
    "execution": {
     "iopub.execute_input": "2025-07-18T23:08:56.024619Z",
     "iopub.status.busy": "2025-07-18T23:08:56.024307Z",
     "iopub.status.idle": "2025-07-18T23:08:58.128067Z",
     "shell.execute_reply": "2025-07-18T23:08:58.126466Z"
    },
    "papermill": {
     "duration": 2.111727,
     "end_time": "2025-07-18T23:08:58.129784",
     "exception": false,
     "start_time": "2025-07-18T23:08:56.018057",
     "status": "completed"
    },
    "tags": []
   },
   "outputs": [
    {
     "name": "stdout",
     "output_type": "stream",
     "text": [
      "/kaggle/input/drw-crypto-market-prediction/sample_submission.csv\n",
      "/kaggle/input/drw-crypto-market-prediction/train.parquet\n",
      "/kaggle/input/drw-crypto-market-prediction/test.parquet\n"
     ]
    }
   ],
   "source": [
    "# This Python 3 environment comes with many helpful analytics libraries installed\n",
    "# It is defined by the kaggle/python Docker image: https://github.com/kaggle/docker-python\n",
    "# For example, here's several helpful packages to load\n",
    "\n",
    "import numpy as np # linear algebra\n",
    "import pandas as pd # data processing, CSV file I/O (e.g. pd.read_csv)\n",
    "\n",
    "# Input data files are available in the read-only \"../input/\" directory\n",
    "# For example, running this (by clicking run or pressing Shift+Enter) will list all files under the input directory\n",
    "\n",
    "import os\n",
    "for dirname, _, filenames in os.walk('/kaggle/input'):\n",
    "    for filename in filenames:\n",
    "        print(os.path.join(dirname, filename))\n",
    "\n",
    "# You can write up to 20GB to the current directory (/kaggle/working/) that gets preserved as output when you create a version using \"Save & Run All\" \n",
    "# You can also write temporary files to /kaggle/temp/, but they won't be saved outside of the current session"
   ]
  },
  {
   "cell_type": "code",
   "execution_count": 2,
   "id": "8249df72",
   "metadata": {
    "execution": {
     "iopub.execute_input": "2025-07-18T23:08:58.140140Z",
     "iopub.status.busy": "2025-07-18T23:08:58.139668Z",
     "iopub.status.idle": "2025-07-18T23:09:06.961344Z",
     "shell.execute_reply": "2025-07-18T23:09:06.960445Z"
    },
    "papermill": {
     "duration": 8.828514,
     "end_time": "2025-07-18T23:09:06.963052",
     "exception": false,
     "start_time": "2025-07-18T23:08:58.134538",
     "status": "completed"
    },
    "tags": []
   },
   "outputs": [],
   "source": [
    "import numpy as np\n",
    "import pandas as pd\n",
    "from sklearn.model_selection import TimeSeriesSplit\n",
    "from sklearn.metrics import mean_squared_error\n",
    "from scipy.stats import pearsonr\n",
    "from sklearn.preprocessing import StandardScaler\n",
    "import lightgbm as lgb\n",
    "import catboost as cb\n",
    "import xgboost as xgb\n",
    "import optuna\n",
    "import warnings\n",
    "warnings.filterwarnings('ignore')"
   ]
  },
  {
   "cell_type": "code",
   "execution_count": 3,
   "id": "7d12aeab",
   "metadata": {
    "execution": {
     "iopub.execute_input": "2025-07-18T23:09:06.973372Z",
     "iopub.status.busy": "2025-07-18T23:09:06.972691Z",
     "iopub.status.idle": "2025-07-18T23:10:01.030165Z",
     "shell.execute_reply": "2025-07-18T23:10:01.028046Z"
    },
    "papermill": {
     "duration": 54.069561,
     "end_time": "2025-07-18T23:10:01.037027",
     "exception": false,
     "start_time": "2025-07-18T23:09:06.967466",
     "status": "completed"
    },
    "tags": []
   },
   "outputs": [],
   "source": [
    "# Load full training data\n",
    "columns = ['bid_qty', 'ask_qty', 'buy_qty', 'sell_qty', 'volume'] + [f\"X{i}\" for i in range(1,781)] + ['label']\n",
    "train = pd.read_parquet('/kaggle/input/drw-crypto-market-prediction/train.parquet', columns=columns, engine='pyarrow')\n",
    "test = pd.read_parquet('/kaggle/input/drw-crypto-market-prediction/test.parquet', engine='pyarrow')"
   ]
  },
  {
   "cell_type": "code",
   "execution_count": 4,
   "id": "9559fa94",
   "metadata": {
    "execution": {
     "iopub.execute_input": "2025-07-18T23:10:01.054926Z",
     "iopub.status.busy": "2025-07-18T23:10:01.054311Z",
     "iopub.status.idle": "2025-07-18T23:10:15.395682Z",
     "shell.execute_reply": "2025-07-18T23:10:15.394489Z"
    },
    "papermill": {
     "duration": 14.351118,
     "end_time": "2025-07-18T23:10:15.397930",
     "exception": false,
     "start_time": "2025-07-18T23:10:01.046812",
     "status": "completed"
    },
    "tags": []
   },
   "outputs": [],
   "source": [
    "# Optimize memory usage\n",
    "train = train.astype({col: 'float32' for col in train.columns if col != 'timestamp'})\n",
    "test = test.astype({col: 'float32' for col in test.columns if col != 'ID'})"
   ]
  },
  {
   "cell_type": "code",
   "execution_count": 5,
   "id": "2924185c",
   "metadata": {
    "execution": {
     "iopub.execute_input": "2025-07-18T23:10:15.409310Z",
     "iopub.status.busy": "2025-07-18T23:10:15.408970Z",
     "iopub.status.idle": "2025-07-18T23:10:38.791677Z",
     "shell.execute_reply": "2025-07-18T23:10:38.790516Z"
    },
    "papermill": {
     "duration": 23.390281,
     "end_time": "2025-07-18T23:10:38.793558",
     "exception": false,
     "start_time": "2025-07-18T23:10:15.403277",
     "status": "completed"
    },
    "tags": []
   },
   "outputs": [],
   "source": [
    "# Standardize features\n",
    "scaler = StandardScaler()\n",
    "x_columns = [f\"X{i}\" for i in range(1,781)] + ['bid_qty', 'ask_qty', 'buy_qty', 'sell_qty', 'volume']\n",
    "train[x_columns] = scaler.fit_transform(train[x_columns])\n",
    "test[x_columns] = scaler.transform(test[x_columns])"
   ]
  },
  {
   "cell_type": "code",
   "execution_count": 6,
   "id": "e26f7da3",
   "metadata": {
    "execution": {
     "iopub.execute_input": "2025-07-18T23:10:38.803840Z",
     "iopub.status.busy": "2025-07-18T23:10:38.803479Z",
     "iopub.status.idle": "2025-07-18T23:10:38.814816Z",
     "shell.execute_reply": "2025-07-18T23:10:38.813717Z"
    },
    "papermill": {
     "duration": 0.018865,
     "end_time": "2025-07-18T23:10:38.816825",
     "exception": false,
     "start_time": "2025-07-18T23:10:38.797960",
     "status": "completed"
    },
    "tags": []
   },
   "outputs": [],
   "source": [
    "# Feature Engineering\n",
    "def engineer_features(df, has_label=True):\n",
    "    # Lagged features\n",
    "    lags = [1, 5, 10]\n",
    "    features_lag = ['bid_qty', 'ask_qty', 'buy_qty', 'sell_qty', 'volume']\n",
    "    for feature in features_lag:\n",
    "        for lag in lags:\n",
    "            df[f\"{feature}_lag_{lag}\"] = df[feature].shift(lag)\n",
    "\n",
    "    # Rolling statistics\n",
    "    window_sizes = [5, 10]\n",
    "    features_rolling = ['bid_qty', 'ask_qty', 'buy_qty', 'sell_qty', 'volume']\n",
    "    for feature in features_rolling:\n",
    "        for window in window_sizes:\n",
    "            df[f\"{feature}_rollmean_{window}\"] = df[feature].rolling(window).mean().shift(1)\n",
    "            df[f\"{feature}_rollstd_{window}\"] = df[feature].rolling(window).std().shift(1)\n",
    "\n",
    "    # Interactions\n",
    "    df['buy_sell_imbalance'] = df['buy_qty'] - df['sell_qty']\n",
    "    df['order_imbalance'] = df['bid_qty'] - df['ask_qty']\n",
    "    df['volume_momentum_ratio'] = df['volume_rollmean_5'] / (df['volume_rollmean_10'] + 1e-6)\n",
    "    df['price_pressure'] = df['bid_qty'] / (df['ask_qty'] + 1e-6)\n",
    "    df['volume_x1_product'] = df['volume'] * df['X1']\n",
    "    df['volume_order_imbalance'] = df['volume'] * df['order_imbalance']\n",
    "\n",
    "    # X1-X20 features\n",
    "    x_features = [f'X{i}' for i in range(1, 21)]\n",
    "    for feature in x_features:\n",
    "        df[f\"{feature}_rollmean_10\"] = df[feature].rolling(10).mean().shift(1)\n",
    "        df[f\"{feature}_volatility_10\"] = df[feature].rolling(10).std().shift(1)\n",
    "        df[f\"{feature}_momentum_5\"] = df[feature] - df[feature].shift(5)\n",
    "\n",
    "    # Additional interactions\n",
    "    df['x1_x2_ratio'] = df['X1'] / (df['X2'] + 1e-6)\n",
    "    df['x1_x2_product'] = df['X1'] * df['X2']\n",
    "    df['x1_x3_product'] = df['X1'] * df['X3']\n",
    "    df['x1_volume_ratio'] = df['X1'] / (df['volume'] + 1e-6)\n",
    "\n",
    "    if has_label:\n",
    "        df['label_rollmean_10'] = df['label'].rolling(10).mean().shift(1)\n",
    "        df['label_volatility_10'] = df['label'].rolling(10).std().shift(1)\n",
    "\n",
    "    return df"
   ]
  },
  {
   "cell_type": "code",
   "execution_count": 7,
   "id": "76340168",
   "metadata": {
    "execution": {
     "iopub.execute_input": "2025-07-18T23:10:38.826763Z",
     "iopub.status.busy": "2025-07-18T23:10:38.826442Z",
     "iopub.status.idle": "2025-07-18T23:10:49.007779Z",
     "shell.execute_reply": "2025-07-18T23:10:49.006768Z"
    },
    "papermill": {
     "duration": 10.188826,
     "end_time": "2025-07-18T23:10:49.010114",
     "exception": false,
     "start_time": "2025-07-18T23:10:38.821288",
     "status": "completed"
    },
    "tags": []
   },
   "outputs": [],
   "source": [
    "# Apply feature engineering\n",
    "train = engineer_features(train, has_label=True)\n",
    "train.dropna(inplace=True)\n",
    "test = engineer_features(test, has_label=False)\n",
    "test = test.fillna(0)"
   ]
  },
  {
   "cell_type": "code",
   "execution_count": 8,
   "id": "ec353fab",
   "metadata": {
    "execution": {
     "iopub.execute_input": "2025-07-18T23:10:49.023260Z",
     "iopub.status.busy": "2025-07-18T23:10:49.022786Z",
     "iopub.status.idle": "2025-07-18T23:10:50.230923Z",
     "shell.execute_reply": "2025-07-18T23:10:50.229937Z"
    },
    "papermill": {
     "duration": 1.218005,
     "end_time": "2025-07-18T23:10:50.232582",
     "exception": false,
     "start_time": "2025-07-18T23:10:49.014577",
     "status": "completed"
    },
    "tags": []
   },
   "outputs": [],
   "source": [
    "# Prepare data\n",
    "X = train.drop(columns=['label'])\n",
    "y = train['label']"
   ]
  },
  {
   "cell_type": "code",
   "execution_count": 9,
   "id": "9607b9ec",
   "metadata": {
    "execution": {
     "iopub.execute_input": "2025-07-18T23:10:50.243639Z",
     "iopub.status.busy": "2025-07-18T23:10:50.243283Z",
     "iopub.status.idle": "2025-07-18T23:11:01.367215Z",
     "shell.execute_reply": "2025-07-18T23:11:01.366218Z"
    },
    "papermill": {
     "duration": 11.13194,
     "end_time": "2025-07-18T23:11:01.369215",
     "exception": false,
     "start_time": "2025-07-18T23:10:50.237275",
     "status": "completed"
    },
    "tags": []
   },
   "outputs": [],
   "source": [
    "# Feature selection: Correlation-based pre-filtering\n",
    "corr = X.corrwith(y).abs()\n",
    "corr_df = pd.DataFrame({'Feature': X.columns, 'Correlation': corr}).sort_values(by='Correlation', ascending=False)\n",
    "# Exclude label-dependent features\n",
    "label_dependent_features = ['label_rollmean_10', 'label_volatility_10']\n",
    "top_corr_features = corr_df[corr_df['Correlation'] > 0.05]['Feature'].tolist()\n",
    "top_corr_features = [f for f in top_corr_features if f not in label_dependent_features]\n",
    "X = X[top_corr_features]\n",
    "test = test[top_corr_features]"
   ]
  },
  {
   "cell_type": "code",
   "execution_count": 10,
   "id": "b453c188",
   "metadata": {
    "execution": {
     "iopub.execute_input": "2025-07-18T23:11:01.379433Z",
     "iopub.status.busy": "2025-07-18T23:11:01.379110Z",
     "iopub.status.idle": "2025-07-18T23:11:06.622454Z",
     "shell.execute_reply": "2025-07-18T23:11:06.621341Z"
    },
    "papermill": {
     "duration": 5.250876,
     "end_time": "2025-07-18T23:11:06.624507",
     "exception": false,
     "start_time": "2025-07-18T23:11:01.373631",
     "status": "completed"
    },
    "tags": []
   },
   "outputs": [
    {
     "name": "stdout",
     "output_type": "stream",
     "text": [
      "Top 10 Features by LightGBM Importance:\n",
      "   Feature  Importance\n",
      "19    X614         315\n",
      "11    X219         303\n",
      "20    X218         211\n",
      "25    X285         189\n",
      "21    X751         180\n",
      "0     X752         159\n",
      "4     X759         149\n",
      "9      X22         145\n",
      "17    X753         141\n",
      "12    X756          94\n"
     ]
    }
   ],
   "source": [
    "# Further selection with LightGBM\n",
    "initial_model = lgb.LGBMRegressor(n_estimators=100, learning_rate=0.05, max_depth=5, verbosity=-1)\n",
    "initial_model.fit(X, y)\n",
    "importances = pd.DataFrame({\n",
    "    'Feature': X.columns,\n",
    "    'Importance': initial_model.feature_importances_\n",
    "}).sort_values(by='Importance', ascending=False)\n",
    "top_features = importances['Feature'].head(100).tolist()\n",
    "top_features = [f for f in top_features if f not in label_dependent_features]  # Ensure exclusion\n",
    "X = X[top_features]\n",
    "test = test[top_features]\n",
    "print(\"Top 10 Features by LightGBM Importance:\")\n",
    "print(importances.head(10))"
   ]
  },
  {
   "cell_type": "code",
   "execution_count": 11,
   "id": "4796a54a",
   "metadata": {
    "execution": {
     "iopub.execute_input": "2025-07-18T23:11:06.635392Z",
     "iopub.status.busy": "2025-07-18T23:11:06.634719Z",
     "iopub.status.idle": "2025-07-18T23:11:06.643520Z",
     "shell.execute_reply": "2025-07-18T23:11:06.642717Z"
    },
    "papermill": {
     "duration": 0.01603,
     "end_time": "2025-07-18T23:11:06.645099",
     "exception": false,
     "start_time": "2025-07-18T23:11:06.629069",
     "status": "completed"
    },
    "tags": []
   },
   "outputs": [],
   "source": [
    "# Define Pearson correlation objective for Optuna\n",
    "def objective(trial, model_type):\n",
    "    if model_type == 'lgb':\n",
    "        params = {\n",
    "            'n_estimators': trial.suggest_int('n_estimators', 100, 300),\n",
    "            'learning_rate': trial.suggest_float('learning_rate', 0.05, 0.15),\n",
    "            'max_depth': trial.suggest_int('max_depth', 5, 8),\n",
    "            'num_leaves': trial.suggest_int('num_leaves', 20, 50)\n",
    "        }\n",
    "        model = lgb.LGBMRegressor(**params, verbosity=-1)\n",
    "    elif model_type == 'cb':\n",
    "        params = {\n",
    "            'iterations': trial.suggest_int('iterations', 100, 300),\n",
    "            'learning_rate': trial.suggest_float('learning_rate', 0.05, 0.15),\n",
    "            'depth': trial.suggest_int('depth', 5, 8)\n",
    "        }\n",
    "        model = cb.CatBoostRegressor(**params, verbose=0)\n",
    "    else:  # xgb\n",
    "        params = {\n",
    "            'n_estimators': trial.suggest_int('n_estimators', 100, 300),\n",
    "            'learning_rate': trial.suggest_float('learning_rate', 0.05, 0.15),\n",
    "            'max_depth': trial.suggest_int('max_depth', 5, 8)\n",
    "        }\n",
    "        model = xgb.XGBRegressor(**params, verbosity=0)\n",
    "    \n",
    "    tscv = TimeSeriesSplit(n_splits=7)\n",
    "    corr_scores = []\n",
    "    for train_idx, val_idx in tscv.split(X):\n",
    "        X_train, X_val = X.iloc[train_idx], X.iloc[val_idx]\n",
    "        y_train, y_val = y.iloc[train_idx], y.iloc[val_idx]\n",
    "        model.fit(X_train, y_train)\n",
    "        y_pred = model.predict(X_val)\n",
    "        corr, _ = pearsonr(y_val, y_pred)\n",
    "        corr_scores.append(corr)\n",
    "    return np.mean(corr_scores)"
   ]
  },
  {
   "cell_type": "code",
   "execution_count": 12,
   "id": "d901e89e",
   "metadata": {
    "execution": {
     "iopub.execute_input": "2025-07-18T23:11:06.655066Z",
     "iopub.status.busy": "2025-07-18T23:11:06.654651Z",
     "iopub.status.idle": "2025-07-18T23:32:21.136280Z",
     "shell.execute_reply": "2025-07-18T23:32:21.133545Z"
    },
    "papermill": {
     "duration": 1274.494163,
     "end_time": "2025-07-18T23:32:21.143715",
     "exception": false,
     "start_time": "2025-07-18T23:11:06.649552",
     "status": "completed"
    },
    "tags": []
   },
   "outputs": [
    {
     "name": "stderr",
     "output_type": "stream",
     "text": [
      "[I 2025-07-18 23:11:06,657] A new study created in memory with name: no-name-e43d4dea-350e-4d28-92f1-0b129dd429ed\n",
      "[I 2025-07-18 23:11:39,295] Trial 0 finished with value: 0.04223162253995243 and parameters: {'n_estimators': 193, 'learning_rate': 0.1306745809679591, 'max_depth': 5, 'num_leaves': 27}. Best is trial 0 with value: 0.04223162253995243.\n",
      "[I 2025-07-18 23:12:14,134] Trial 1 finished with value: 0.06366498370989128 and parameters: {'n_estimators': 179, 'learning_rate': 0.06749056212285767, 'max_depth': 6, 'num_leaves': 43}. Best is trial 1 with value: 0.06366498370989128.\n",
      "[I 2025-07-18 23:12:54,767] Trial 2 finished with value: 0.06407592389616301 and parameters: {'n_estimators': 199, 'learning_rate': 0.05248299976936053, 'max_depth': 7, 'num_leaves': 49}. Best is trial 2 with value: 0.06407592389616301.\n",
      "[I 2025-07-18 23:13:31,441] Trial 3 finished with value: 0.05137684800649977 and parameters: {'n_estimators': 211, 'learning_rate': 0.09457674286517789, 'max_depth': 7, 'num_leaves': 37}. Best is trial 2 with value: 0.06407592389616301.\n",
      "[I 2025-07-18 23:13:53,898] Trial 4 finished with value: 0.07378910255222583 and parameters: {'n_estimators': 107, 'learning_rate': 0.05087733354087658, 'max_depth': 6, 'num_leaves': 21}. Best is trial 4 with value: 0.07378910255222583.\n",
      "[I 2025-07-18 23:14:19,283] Trial 5 finished with value: 0.06176198695597966 and parameters: {'n_estimators': 148, 'learning_rate': 0.12631620530391396, 'max_depth': 8, 'num_leaves': 22}. Best is trial 4 with value: 0.07378910255222583.\n",
      "[I 2025-07-18 23:14:45,070] Trial 6 finished with value: 0.053839532978902045 and parameters: {'n_estimators': 152, 'learning_rate': 0.09885457756362837, 'max_depth': 5, 'num_leaves': 22}. Best is trial 4 with value: 0.07378910255222583.\n",
      "[I 2025-07-18 23:15:10,124] Trial 7 finished with value: 0.05509027695184986 and parameters: {'n_estimators': 103, 'learning_rate': 0.09655929505680065, 'max_depth': 8, 'num_leaves': 49}. Best is trial 4 with value: 0.07378910255222583.\n",
      "[I 2025-07-18 23:15:56,171] Trial 8 finished with value: 0.05815299115848032 and parameters: {'n_estimators': 251, 'learning_rate': 0.07414053780104948, 'max_depth': 7, 'num_leaves': 45}. Best is trial 4 with value: 0.07378910255222583.\n",
      "[I 2025-07-18 23:16:25,142] Trial 9 finished with value: 0.05939337762327999 and parameters: {'n_estimators': 145, 'learning_rate': 0.09176541115594349, 'max_depth': 6, 'num_leaves': 38}. Best is trial 4 with value: 0.07378910255222583.\n",
      "[I 2025-07-18 23:16:25,145] A new study created in memory with name: no-name-0cfb5252-5eff-49c5-a3ca-c95061827db7\n"
     ]
    },
    {
     "name": "stdout",
     "output_type": "stream",
     "text": [
      "Best LightGBM Parameters: {'n_estimators': 107, 'learning_rate': 0.05087733354087658, 'max_depth': 6, 'num_leaves': 21}\n"
     ]
    },
    {
     "name": "stderr",
     "output_type": "stream",
     "text": [
      "[I 2025-07-18 23:17:47,117] Trial 0 finished with value: 0.05858200213157549 and parameters: {'iterations': 295, 'learning_rate': 0.10609750316529071, 'depth': 7}. Best is trial 0 with value: 0.05858200213157549.\n",
      "[I 2025-07-18 23:18:21,073] Trial 1 finished with value: 0.07237830655406044 and parameters: {'iterations': 143, 'learning_rate': 0.08808440465915453, 'depth': 6}. Best is trial 1 with value: 0.07237830655406044.\n",
      "[I 2025-07-18 23:19:04,963] Trial 2 finished with value: 0.06337339418622544 and parameters: {'iterations': 224, 'learning_rate': 0.1301546602847755, 'depth': 5}. Best is trial 1 with value: 0.07237830655406044.\n",
      "[I 2025-07-18 23:20:35,768] Trial 3 finished with value: 0.06432864074192245 and parameters: {'iterations': 273, 'learning_rate': 0.07805312633903283, 'depth': 7}. Best is trial 1 with value: 0.07237830655406044.\n",
      "[I 2025-07-18 23:21:25,759] Trial 4 finished with value: 0.06181492458606265 and parameters: {'iterations': 131, 'learning_rate': 0.12322696241328622, 'depth': 8}. Best is trial 1 with value: 0.07237830655406044.\n",
      "[I 2025-07-18 23:23:02,303] Trial 5 finished with value: 0.060011709460535016 and parameters: {'iterations': 245, 'learning_rate': 0.1353096112020541, 'depth': 8}. Best is trial 1 with value: 0.07237830655406044.\n",
      "[I 2025-07-18 23:23:42,524] Trial 6 finished with value: 0.060946203907884244 and parameters: {'iterations': 169, 'learning_rate': 0.1348797895270421, 'depth': 6}. Best is trial 1 with value: 0.07237830655406044.\n",
      "[I 2025-07-18 23:24:45,118] Trial 7 finished with value: 0.07498027684364908 and parameters: {'iterations': 223, 'learning_rate': 0.06963191696843937, 'depth': 7}. Best is trial 7 with value: 0.07498027684364908.\n",
      "[I 2025-07-18 23:25:24,816] Trial 8 finished with value: 0.06847372674798982 and parameters: {'iterations': 164, 'learning_rate': 0.12341414738988479, 'depth': 6}. Best is trial 7 with value: 0.07498027684364908.\n",
      "[I 2025-07-18 23:26:09,647] Trial 9 finished with value: 0.08356724301675035 and parameters: {'iterations': 221, 'learning_rate': 0.05094752638861734, 'depth': 5}. Best is trial 9 with value: 0.08356724301675035.\n",
      "[I 2025-07-18 23:26:09,649] A new study created in memory with name: no-name-a1218cd1-7271-45b4-b22e-ce321b271c47\n"
     ]
    },
    {
     "name": "stdout",
     "output_type": "stream",
     "text": [
      "Best CatBoost Parameters: {'iterations': 221, 'learning_rate': 0.05094752638861734, 'depth': 5}\n"
     ]
    },
    {
     "name": "stderr",
     "output_type": "stream",
     "text": [
      "[I 2025-07-18 23:27:03,051] Trial 0 finished with value: 0.05387601628899574 and parameters: {'n_estimators': 256, 'learning_rate': 0.05083683021026119, 'max_depth': 7}. Best is trial 0 with value: 0.05387601628899574.\n",
      "[I 2025-07-18 23:27:31,468] Trial 1 finished with value: 0.05788189545273781 and parameters: {'n_estimators': 159, 'learning_rate': 0.08636883559225761, 'max_depth': 6}. Best is trial 1 with value: 0.05788189545273781.\n",
      "[I 2025-07-18 23:27:53,330] Trial 2 finished with value: 0.050317052751779556 and parameters: {'n_estimators': 146, 'learning_rate': 0.10803145644870879, 'max_depth': 5}. Best is trial 1 with value: 0.05788189545273781.\n",
      "[I 2025-07-18 23:28:23,076] Trial 3 finished with value: 0.07282233983278275 and parameters: {'n_estimators': 173, 'learning_rate': 0.054235686471163974, 'max_depth': 6}. Best is trial 3 with value: 0.07282233983278275.\n",
      "[I 2025-07-18 23:29:19,694] Trial 4 finished with value: 0.06199156120419502 and parameters: {'n_estimators': 189, 'learning_rate': 0.08379696360732458, 'max_depth': 8}. Best is trial 3 with value: 0.07282233983278275.\n",
      "[I 2025-07-18 23:29:50,409] Trial 5 finished with value: 0.054677389562129974 and parameters: {'n_estimators': 132, 'learning_rate': 0.06699339190807954, 'max_depth': 7}. Best is trial 3 with value: 0.07282233983278275.\n",
      "[I 2025-07-18 23:30:08,549] Trial 6 finished with value: 0.0687539279460907 and parameters: {'n_estimators': 114, 'learning_rate': 0.06041680799335787, 'max_depth': 5}. Best is trial 3 with value: 0.07282233983278275.\n",
      "[I 2025-07-18 23:30:44,930] Trial 7 finished with value: 0.053997937589883804 and parameters: {'n_estimators': 116, 'learning_rate': 0.14560750544442738, 'max_depth': 8}. Best is trial 3 with value: 0.07282233983278275.\n",
      "[I 2025-07-18 23:31:35,472] Trial 8 finished with value: 0.047440219670534134 and parameters: {'n_estimators': 164, 'learning_rate': 0.1021729575758865, 'max_depth': 8}. Best is trial 3 with value: 0.07282233983278275.\n",
      "[I 2025-07-18 23:32:21,130] Trial 9 finished with value: 0.05847972631454468 and parameters: {'n_estimators': 151, 'learning_rate': 0.1291826587338112, 'max_depth': 8}. Best is trial 3 with value: 0.07282233983278275.\n"
     ]
    },
    {
     "name": "stdout",
     "output_type": "stream",
     "text": [
      "Best XGBoost Parameters: {'n_estimators': 173, 'learning_rate': 0.054235686471163974, 'max_depth': 6}\n"
     ]
    }
   ],
   "source": [
    "# Optimize models\n",
    "study_lgb = optuna.create_study(direction='maximize')\n",
    "study_lgb.optimize(lambda trial: objective(trial, 'lgb'), n_trials=10)\n",
    "best_params_lgb = study_lgb.best_params\n",
    "print(f\"Best LightGBM Parameters: {best_params_lgb}\")\n",
    "\n",
    "study_cb = optuna.create_study(direction='maximize')\n",
    "study_cb.optimize(lambda trial: objective(trial, 'cb'), n_trials=10)\n",
    "best_params_cb = study_cb.best_params\n",
    "print(f\"Best CatBoost Parameters: {best_params_cb}\")\n",
    "\n",
    "study_xgb = optuna.create_study(direction='maximize')\n",
    "study_xgb.optimize(lambda trial: objective(trial, 'xgb'), n_trials=10)\n",
    "best_params_xgb = study_xgb.best_params\n",
    "print(f\"Best XGBoost Parameters: {best_params_xgb}\")"
   ]
  },
  {
   "cell_type": "code",
   "execution_count": 13,
   "id": "dd4f2973",
   "metadata": {
    "execution": {
     "iopub.execute_input": "2025-07-18T23:32:21.159046Z",
     "iopub.status.busy": "2025-07-18T23:32:21.158676Z",
     "iopub.status.idle": "2025-07-18T23:32:21.163629Z",
     "shell.execute_reply": "2025-07-18T23:32:21.162821Z"
    },
    "papermill": {
     "duration": 0.014046,
     "end_time": "2025-07-18T23:32:21.165005",
     "exception": false,
     "start_time": "2025-07-18T23:32:21.150959",
     "status": "completed"
    },
    "tags": []
   },
   "outputs": [],
   "source": [
    "# Train final models and compute CV scores\n",
    "tscv = TimeSeriesSplit(n_splits=7)\n",
    "lgb_scores, cb_scores, xgb_scores = [], [], []"
   ]
  },
  {
   "cell_type": "code",
   "execution_count": 14,
   "id": "34b3edda",
   "metadata": {
    "execution": {
     "iopub.execute_input": "2025-07-18T23:32:21.178207Z",
     "iopub.status.busy": "2025-07-18T23:32:21.177823Z",
     "iopub.status.idle": "2025-07-18T23:32:42.629291Z",
     "shell.execute_reply": "2025-07-18T23:32:42.628422Z"
    },
    "papermill": {
     "duration": 21.459924,
     "end_time": "2025-07-18T23:32:42.630988",
     "exception": false,
     "start_time": "2025-07-18T23:32:21.171064",
     "status": "completed"
    },
    "tags": []
   },
   "outputs": [],
   "source": [
    "# LightGBM\n",
    "lgb_model = lgb.LGBMRegressor(**best_params_lgb, verbosity=-1)\n",
    "for train_idx, val_idx in tscv.split(X):\n",
    "    X_train, X_val = X.iloc[train_idx], X.iloc[val_idx]\n",
    "    y_train, y_val = y.iloc[train_idx], y.iloc[val_idx]\n",
    "    lgb_model.fit(X_train, y_train)\n",
    "    y_pred = lgb_model.predict(X_val)\n",
    "    corr, _ = pearsonr(y_val, y_pred)\n",
    "    lgb_scores.append(corr)"
   ]
  },
  {
   "cell_type": "code",
   "execution_count": 15,
   "id": "271c77a2",
   "metadata": {
    "execution": {
     "iopub.execute_input": "2025-07-18T23:32:42.644834Z",
     "iopub.status.busy": "2025-07-18T23:32:42.644103Z",
     "iopub.status.idle": "2025-07-18T23:33:25.320504Z",
     "shell.execute_reply": "2025-07-18T23:33:25.319712Z"
    },
    "papermill": {
     "duration": 42.685278,
     "end_time": "2025-07-18T23:33:25.322448",
     "exception": false,
     "start_time": "2025-07-18T23:32:42.637170",
     "status": "completed"
    },
    "tags": []
   },
   "outputs": [],
   "source": [
    "# CatBoost\n",
    "cb_model = cb.CatBoostRegressor(**best_params_cb, verbose=0)\n",
    "for train_idx, val_idx in tscv.split(X):\n",
    "    X_train, X_val = X.iloc[train_idx], X.iloc[val_idx]\n",
    "    y_train, y_val = y.iloc[train_idx], y.iloc[val_idx]\n",
    "    cb_model.fit(X_train, y_train)\n",
    "    y_pred = cb_model.predict(X_val)\n",
    "    corr, _ = pearsonr(y_val, y_pred)\n",
    "    cb_scores.append(corr)\n"
   ]
  },
  {
   "cell_type": "code",
   "execution_count": 16,
   "id": "ed0c0747",
   "metadata": {
    "execution": {
     "iopub.execute_input": "2025-07-18T23:33:25.336218Z",
     "iopub.status.busy": "2025-07-18T23:33:25.335790Z",
     "iopub.status.idle": "2025-07-18T23:33:54.493766Z",
     "shell.execute_reply": "2025-07-18T23:33:54.493107Z"
    },
    "papermill": {
     "duration": 29.166928,
     "end_time": "2025-07-18T23:33:54.495793",
     "exception": false,
     "start_time": "2025-07-18T23:33:25.328865",
     "status": "completed"
    },
    "tags": []
   },
   "outputs": [],
   "source": [
    "# XGBoost\n",
    "xgb_model = xgb.XGBRegressor(**best_params_xgb, verbosity=0)\n",
    "for train_idx, val_idx in tscv.split(X):\n",
    "    X_train, X_val = X.iloc[train_idx], X.iloc[val_idx]\n",
    "    y_train, y_val = y.iloc[train_idx], y.iloc[val_idx]\n",
    "    xgb_model.fit(X_train, y_train)\n",
    "    y_pred = xgb_model.predict(X_val)\n",
    "    corr, _ = pearsonr(y_val, y_pred)\n",
    "    xgb_scores.append(corr)"
   ]
  },
  {
   "cell_type": "code",
   "execution_count": 17,
   "id": "f6dcf9b3",
   "metadata": {
    "execution": {
     "iopub.execute_input": "2025-07-18T23:33:54.512003Z",
     "iopub.status.busy": "2025-07-18T23:33:54.511635Z",
     "iopub.status.idle": "2025-07-18T23:34:21.013364Z",
     "shell.execute_reply": "2025-07-18T23:34:21.012360Z"
    },
    "papermill": {
     "duration": 26.511419,
     "end_time": "2025-07-18T23:34:21.015511",
     "exception": false,
     "start_time": "2025-07-18T23:33:54.504092",
     "status": "completed"
    },
    "tags": []
   },
   "outputs": [],
   "source": [
    "# Ensemble predictions with dynamic weights based on CV scores\n",
    "avg_lgb_score = np.mean(lgb_scores)\n",
    "avg_cb_score = np.mean(cb_scores)\n",
    "avg_xgb_score = np.mean(xgb_scores)\n",
    "total_score = avg_lgb_score + avg_cb_score + avg_xgb_score\n",
    "weights = {\n",
    "    'lgb': avg_lgb_score / total_score if total_score > 0 else 0.4,\n",
    "    'cb': avg_cb_score / total_score if total_score > 0 else 0.3,\n",
    "    'xgb': avg_xgb_score / total_score if total_score > 0 else 0.3\n",
    "}\n",
    "\n",
    "lgb_model.fit(X, y)\n",
    "cb_model.fit(X, y)\n",
    "xgb_model.fit(X, y)\n",
    "lgb_pred = lgb_model.predict(test)\n",
    "cb_pred = cb_model.predict(test)\n",
    "xgb_pred = xgb_model.predict(test)\n",
    "final_pred = weights['lgb'] * lgb_pred + weights['cb'] * cb_pred + weights['xgb'] * xgb_pred"
   ]
  },
  {
   "cell_type": "code",
   "execution_count": 18,
   "id": "c5696474",
   "metadata": {
    "execution": {
     "iopub.execute_input": "2025-07-18T23:34:21.233302Z",
     "iopub.status.busy": "2025-07-18T23:34:21.232919Z",
     "iopub.status.idle": "2025-07-18T23:34:21.238286Z",
     "shell.execute_reply": "2025-07-18T23:34:21.237206Z"
    },
    "papermill": {
     "duration": 0.015297,
     "end_time": "2025-07-18T23:34:21.240242",
     "exception": false,
     "start_time": "2025-07-18T23:34:21.224945",
     "status": "completed"
    },
    "tags": []
   },
   "outputs": [
    {
     "name": "stdout",
     "output_type": "stream",
     "text": [
      "Average CV Pearson Correlation (LightGBM): 0.073789\n",
      "Average CV Pearson Correlation (CatBoost): 0.083567\n",
      "Average CV Pearson Correlation (XGBoost): 0.072822\n",
      "Ensemble Weights: LightGBM=0.321, CatBoost=0.363, XGBoost=0.316\n"
     ]
    }
   ],
   "source": [
    "print(f\"Average CV Pearson Correlation (LightGBM): {avg_lgb_score:.6f}\")\n",
    "print(f\"Average CV Pearson Correlation (CatBoost): {avg_cb_score:.6f}\")\n",
    "print(f\"Average CV Pearson Correlation (XGBoost): {avg_xgb_score:.6f}\")\n",
    "print(f\"Ensemble Weights: LightGBM={weights['lgb']:.3f}, CatBoost={weights['cb']:.3f}, XGBoost={weights['xgb']:.3f}\")"
   ]
  },
  {
   "cell_type": "code",
   "execution_count": 19,
   "id": "e98cfc72",
   "metadata": {
    "execution": {
     "iopub.execute_input": "2025-07-18T23:34:21.254738Z",
     "iopub.status.busy": "2025-07-18T23:34:21.253841Z",
     "iopub.status.idle": "2025-07-18T23:34:21.301043Z",
     "shell.execute_reply": "2025-07-18T23:34:21.299947Z"
    },
    "papermill": {
     "duration": 0.056126,
     "end_time": "2025-07-18T23:34:21.302748",
     "exception": false,
     "start_time": "2025-07-18T23:34:21.246622",
     "status": "completed"
    },
    "tags": []
   },
   "outputs": [],
   "source": [
    "# Standardize predictions to match label distribution\n",
    "label_mean, label_std = train['label'].mean(), train['label'].std()\n",
    "final_pred = (final_pred - final_pred.mean()) / final_pred.std() * label_std + label_mean"
   ]
  },
  {
   "cell_type": "code",
   "execution_count": 20,
   "id": "76371649",
   "metadata": {
    "execution": {
     "iopub.execute_input": "2025-07-18T23:34:21.316668Z",
     "iopub.status.busy": "2025-07-18T23:34:21.315922Z",
     "iopub.status.idle": "2025-07-18T23:34:22.577047Z",
     "shell.execute_reply": "2025-07-18T23:34:22.575921Z"
    },
    "papermill": {
     "duration": 1.269603,
     "end_time": "2025-07-18T23:34:22.578546",
     "exception": false,
     "start_time": "2025-07-18T23:34:21.308943",
     "status": "completed"
    },
    "tags": []
   },
   "outputs": [
    {
     "name": "stdout",
     "output_type": "stream",
     "text": [
      "Submission saved to /kaggle/working/submission.csv\n"
     ]
    }
   ],
   "source": [
    "# Create submission\n",
    "submission = pd.DataFrame({\n",
    "    'ID': test.index,\n",
    "    'prediction': final_pred\n",
    "})\n",
    "submission.to_csv('/kaggle/working/submission.csv', index=False)\n",
    "print(\"Submission saved to /kaggle/working/submission.csv\")"
   ]
  },
  {
   "cell_type": "code",
   "execution_count": null,
   "id": "701d5fd0",
   "metadata": {
    "papermill": {
     "duration": 0.005954,
     "end_time": "2025-07-18T23:34:22.590756",
     "exception": false,
     "start_time": "2025-07-18T23:34:22.584802",
     "status": "completed"
    },
    "tags": []
   },
   "outputs": [],
   "source": []
  }
 ],
 "metadata": {
  "kaggle": {
   "accelerator": "none",
   "dataSources": [
    {
     "databundleVersionId": 12993472,
     "sourceId": 96164,
     "sourceType": "competition"
    }
   ],
   "dockerImageVersionId": 31089,
   "isGpuEnabled": false,
   "isInternetEnabled": true,
   "language": "python",
   "sourceType": "notebook"
  },
  "kernelspec": {
   "display_name": "Python 3",
   "language": "python",
   "name": "python3"
  },
  "language_info": {
   "codemirror_mode": {
    "name": "ipython",
    "version": 3
   },
   "file_extension": ".py",
   "mimetype": "text/x-python",
   "name": "python",
   "nbconvert_exporter": "python",
   "pygments_lexer": "ipython3",
   "version": "3.11.13"
  },
  "papermill": {
   "default_parameters": {},
   "duration": 1534.968474,
   "end_time": "2025-07-18T23:34:25.778214",
   "environment_variables": {},
   "exception": null,
   "input_path": "__notebook__.ipynb",
   "output_path": "__notebook__.ipynb",
   "parameters": {},
   "start_time": "2025-07-18T23:08:50.809740",
   "version": "2.6.0"
  }
 },
 "nbformat": 4,
 "nbformat_minor": 5
}
